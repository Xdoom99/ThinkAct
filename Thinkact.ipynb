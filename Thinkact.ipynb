{
  "nbformat": 4,
  "nbformat_minor": 0,
  "metadata": {
    "colab": {
      "provenance": []
    },
    "kernelspec": {
      "name": "python3",
      "display_name": "Python 3"
    },
    "language_info": {
      "name": "python"
    }
  },
  "cells": [
    {
      "cell_type": "code",
      "execution_count": 5,
      "metadata": {
        "id": "C5RgWfQwNQyd"
      },
      "outputs": [],
      "source": [
        "!pip install -q playwright nest_asyncio\n",
        "!playwright install chromium\n",
        "\n",
        "import nest_asyncio\n",
        "nest_asyncio.apply()\n"
      ]
    },
    {
      "cell_type": "code",
      "source": [
        "import nest_asyncio\n",
        "nest_asyncio.apply()\n",
        "\n",
        "import asyncio\n",
        "from playwright.async_api import async_playwright, TimeoutError as PlaywrightTimeoutError\n",
        "from bs4 import BeautifulSoup\n",
        "\n",
        "async def scrape_case_data(cnr_number):\n",
        "    try:\n",
        "        async with async_playwright() as p:\n",
        "            browser = await p.chromium.launch(headless=True)\n",
        "            page = await browser.new_page()\n",
        "\n",
        "            print(\"🔃 Loading page...\")\n",
        "            await page.goto(\"https://services.ecourts.gov.in/ecourtindia_v6/\")\n",
        "\n",
        "            print(\"✅ Page loaded. Clicking CNR tab...\")\n",
        "            await page.click(\"text='CNR Number'\")\n",
        "\n",
        "            print(\"⏳ Waiting for input field...\")\n",
        "            await page.wait_for_selector(\"#cnrno\", timeout=10000)  # wait for input\n",
        "\n",
        "            print(\"⌨️ Entering CNR number...\")\n",
        "            await page.fill(\"#cnrno\", cnr_number)\n",
        "\n",
        "            print(\"🔍 Submitting form...\")\n",
        "            await page.click(\"#searchbtn\")\n",
        "\n",
        "            print(\"⏳ Waiting for data to load...\")\n",
        "            await page.wait_for_timeout(4000)\n",
        "\n",
        "            html = await page.content()\n",
        "            await browser.close()\n",
        "            return html\n",
        "\n",
        "    except PlaywrightTimeoutError as e:\n",
        "        print(\"❌ Timeout: Element not found.\")\n",
        "        return None\n",
        "    except Exception as e:\n",
        "        print(\"❌ Error occurred:\", e)\n",
        "        return None\n",
        "\n",
        "# 🔧 Run the function\n",
        "cnr = \"HRFB010009602022\"\n",
        "html = await scrape_case_data(cnr)\n",
        "\n",
        "if html:\n",
        "    soup = BeautifulSoup(html, \"html.parser\")\n",
        "    tables = soup.find_all(\"table\")\n",
        "\n",
        "    for i, table in enumerate(tables):\n",
        "        print(f\"\\n--- Table {i+1} ---\")\n",
        "        print(table.text.strip())\n",
        "else:\n",
        "    print(\"⚠️ Scraping failed.\")\n"
      ],
      "metadata": {
        "colab": {
          "base_uri": "https://localhost:8080/"
        },
        "id": "vrT43ZjTNbh4",
        "outputId": "548add89-bbc0-4fa9-a5bd-46818d4a8a12"
      },
      "execution_count": 7,
      "outputs": [
        {
          "output_type": "stream",
          "name": "stdout",
          "text": [
            "🔃 Loading page...\n",
            "✅ Page loaded. Clicking CNR tab...\n",
            "⏳ Waiting for input field...\n",
            "❌ Timeout: Element not found.\n",
            "⚠️ Scraping failed.\n"
          ]
        }
      ]
    },
    {
      "cell_type": "code",
      "source": [
        "import requests\n",
        "from bs4 import BeautifulSoup\n",
        "import sqlite3\n",
        "\n",
        "# --- Input\n",
        "cnr = \"HRFB010009602022\"\n",
        "url = \"https://services.ecourts.gov.in/ecourtindia_v6/cases/cnr_case_details.php\"\n",
        "headers = {\n",
        "    \"Content-Type\": \"application/x-www-form-urlencoded\",\n",
        "    \"Referer\": \"https://services.ecourts.gov.in/ecourtindia_v6/\"\n",
        "}\n",
        "\n",
        "# --- Fetch\n",
        "response = requests.post(url, headers=headers, data={\"cnrno\": cnr})\n",
        "soup = BeautifulSoup(response.text, \"html.parser\")\n",
        "\n",
        "# --- Flexible extractor (line-based)\n",
        "def extract_by_keyword(soup, keyword):\n",
        "    tags_to_check = ['div', 'td', 'span', 'p']\n",
        "    for tag in tags_to_check:\n",
        "        for el in soup.find_all(tag):\n",
        "            text = el.get_text(strip=True)\n",
        "            if keyword.lower() in text.lower() and \":\" in text:\n",
        "                key_val = text.split(\":\", 1)\n",
        "                if len(key_val) == 2:\n",
        "                    return key_val[1].strip()\n",
        "    return \"N/A\"\n",
        "\n",
        "# --- Extract fields\n",
        "case_type = extract_by_keyword(soup, \"case type\")\n",
        "filing_number = extract_by_keyword(soup, \"filing number\")\n",
        "filing_date = extract_by_keyword(soup, \"filing date\")\n",
        "registration_number = extract_by_keyword(soup, \"registration number\")\n",
        "registration_date = extract_by_keyword(soup, \"registration date\")\n",
        "status = extract_by_keyword(soup, \"case status\")\n",
        "disposal_nature = extract_by_keyword(soup, \"disposal\")\n",
        "decision_date = extract_by_keyword(soup, \"decision date\")\n",
        "judge = extract_by_keyword(soup, \"judge\")\n",
        "\n",
        "# --- Print results\n",
        "print(\"📄 Case Type:\", case_type)\n",
        "print(\"📝 Filing Number:\", filing_number)\n",
        "print(\"📅 Filing Date:\", filing_date)\n",
        "print(\"📄 Registration Number:\", registration_number)\n",
        "print(\"📅 Registration Date:\", registration_date)\n",
        "print(\"⚖️ Status:\", status)\n",
        "print(\"✅ Nature of Disposal:\", disposal_nature)\n",
        "print(\"📅 Decision Date:\", decision_date)\n",
        "print(\"👨‍⚖️ Judge:\", judge)\n",
        "\n",
        "# --- Optional: Save to DB\n",
        "conn = sqlite3.connect('court_cases.db')\n",
        "c = conn.cursor()\n",
        "\n",
        "c.execute('''\n",
        "CREATE TABLE IF NOT EXISTS cases (\n",
        "    id INTEGER PRIMARY KEY AUTOINCREMENT,\n",
        "    cnr TEXT,\n",
        "    case_type TEXT,\n",
        "    filing_number TEXT,\n",
        "    filing_date TEXT,\n",
        "    registration_number TEXT,\n",
        "    registration_date TEXT,\n",
        "    status TEXT,\n",
        "    disposal_nature TEXT,\n",
        "    decision_date TEXT,\n",
        "    judge TEXT,\n",
        "    raw_html TEXT\n",
        ")\n",
        "''')\n",
        "\n",
        "c.execute('''\n",
        "INSERT INTO cases (\n",
        "    cnr, case_type, filing_number, filing_date, registration_number,\n",
        "    registration_date, status, disposal_nature, decision_date, judge, raw_html\n",
        ") VALUES (?, ?, ?, ?, ?, ?, ?, ?, ?, ?, ?)\n",
        "''', (\n",
        "    cnr, case_type, filing_number, filing_date, registration_number,\n",
        "    registration_date, status, disposal_nature, decision_date, judge, response.text\n",
        "))\n",
        "\n",
        "conn.commit()\n",
        "conn.close()\n",
        "\n",
        "print(\"\\n✅ Case data saved to 'court_cases.db'\")\n"
      ],
      "metadata": {
        "colab": {
          "base_uri": "https://localhost:8080/"
        },
        "id": "QdbxTjNsNs13",
        "outputId": "cc00403f-02f5-4163-add8-7a87f55993fb"
      },
      "execution_count": 15,
      "outputs": [
        {
          "output_type": "stream",
          "name": "stdout",
          "text": [
            "📄 Case Type: N/A\n",
            "📝 Filing Number: N/A\n",
            "📅 Filing Date: N/A\n",
            "📄 Registration Number: N/A\n",
            "📅 Registration Date: N/A\n",
            "⚖️ Status: N/A\n",
            "✅ Nature of Disposal: N/A\n",
            "📅 Decision Date: N/A\n",
            "👨‍⚖️ Judge: N/A\n",
            "\n",
            "✅ Case data saved to 'court_cases.db'\n"
          ]
        }
      ]
    },
    {
      "cell_type": "code",
      "source": [
        "!pip install flask-ngrok\n"
      ],
      "metadata": {
        "colab": {
          "base_uri": "https://localhost:8080/"
        },
        "id": "sw5e2E5dOvyS",
        "outputId": "7803488a-7ca6-4a51-9df6-ffe80061b6b5"
      },
      "execution_count": 16,
      "outputs": [
        {
          "output_type": "stream",
          "name": "stdout",
          "text": [
            "Collecting flask-ngrok\n",
            "  Downloading flask_ngrok-0.0.25-py3-none-any.whl.metadata (1.8 kB)\n",
            "Requirement already satisfied: Flask>=0.8 in /usr/local/lib/python3.11/dist-packages (from flask-ngrok) (3.1.1)\n",
            "Requirement already satisfied: requests in /usr/local/lib/python3.11/dist-packages (from flask-ngrok) (2.32.3)\n",
            "Requirement already satisfied: blinker>=1.9.0 in /usr/local/lib/python3.11/dist-packages (from Flask>=0.8->flask-ngrok) (1.9.0)\n",
            "Requirement already satisfied: click>=8.1.3 in /usr/local/lib/python3.11/dist-packages (from Flask>=0.8->flask-ngrok) (8.2.1)\n",
            "Requirement already satisfied: itsdangerous>=2.2.0 in /usr/local/lib/python3.11/dist-packages (from Flask>=0.8->flask-ngrok) (2.2.0)\n",
            "Requirement already satisfied: jinja2>=3.1.2 in /usr/local/lib/python3.11/dist-packages (from Flask>=0.8->flask-ngrok) (3.1.6)\n",
            "Requirement already satisfied: markupsafe>=2.1.1 in /usr/local/lib/python3.11/dist-packages (from Flask>=0.8->flask-ngrok) (3.0.2)\n",
            "Requirement already satisfied: werkzeug>=3.1.0 in /usr/local/lib/python3.11/dist-packages (from Flask>=0.8->flask-ngrok) (3.1.3)\n",
            "Requirement already satisfied: charset-normalizer<4,>=2 in /usr/local/lib/python3.11/dist-packages (from requests->flask-ngrok) (3.4.2)\n",
            "Requirement already satisfied: idna<4,>=2.5 in /usr/local/lib/python3.11/dist-packages (from requests->flask-ngrok) (3.10)\n",
            "Requirement already satisfied: urllib3<3,>=1.21.1 in /usr/local/lib/python3.11/dist-packages (from requests->flask-ngrok) (2.5.0)\n",
            "Requirement already satisfied: certifi>=2017.4.17 in /usr/local/lib/python3.11/dist-packages (from requests->flask-ngrok) (2025.7.14)\n",
            "Downloading flask_ngrok-0.0.25-py3-none-any.whl (3.1 kB)\n",
            "Installing collected packages: flask-ngrok\n",
            "Successfully installed flask-ngrok-0.0.25\n"
          ]
        }
      ]
    },
    {
      "cell_type": "code",
      "source": [],
      "metadata": {
        "id": "OtbFl1tSRgXv"
      },
      "execution_count": null,
      "outputs": []
    }
  ]
}